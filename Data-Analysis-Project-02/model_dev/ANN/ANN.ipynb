{
 "cells": [
  {
   "cell_type": "code",
   "execution_count": 129,
   "id": "1c7436e2",
   "metadata": {},
   "outputs": [
    {
     "name": "stdout",
     "output_type": "stream",
     "text": [
      "Requirement already satisfied: tensorflow in c:\\users\\asus\\anaconda3\\lib\\site-packages (2.19.0)\n",
      "Requirement already satisfied: absl-py>=1.0.0 in c:\\users\\asus\\anaconda3\\lib\\site-packages (from tensorflow) (2.2.2)\n",
      "Requirement already satisfied: astunparse>=1.6.0 in c:\\users\\asus\\anaconda3\\lib\\site-packages (from tensorflow) (1.6.3)\n",
      "Requirement already satisfied: flatbuffers>=24.3.25 in c:\\users\\asus\\anaconda3\\lib\\site-packages (from tensorflow) (25.2.10)\n",
      "Requirement already satisfied: gast!=0.5.0,!=0.5.1,!=0.5.2,>=0.2.1 in c:\\users\\asus\\anaconda3\\lib\\site-packages (from tensorflow) (0.6.0)\n",
      "Requirement already satisfied: google-pasta>=0.1.1 in c:\\users\\asus\\anaconda3\\lib\\site-packages (from tensorflow) (0.2.0)\n",
      "Requirement already satisfied: libclang>=13.0.0 in c:\\users\\asus\\anaconda3\\lib\\site-packages (from tensorflow) (18.1.1)\n",
      "Requirement already satisfied: opt-einsum>=2.3.2 in c:\\users\\asus\\anaconda3\\lib\\site-packages (from tensorflow) (3.4.0)\n",
      "Requirement already satisfied: packaging in c:\\users\\asus\\anaconda3\\lib\\site-packages (from tensorflow) (24.1)\n",
      "Requirement already satisfied: protobuf!=4.21.0,!=4.21.1,!=4.21.2,!=4.21.3,!=4.21.4,!=4.21.5,<6.0.0dev,>=3.20.3 in c:\\users\\asus\\anaconda3\\lib\\site-packages (from tensorflow) (4.25.3)\n",
      "Requirement already satisfied: requests<3,>=2.21.0 in c:\\users\\asus\\anaconda3\\lib\\site-packages (from tensorflow) (2.32.3)\n",
      "Requirement already satisfied: setuptools in c:\\users\\asus\\anaconda3\\lib\\site-packages (from tensorflow) (75.1.0)\n",
      "Requirement already satisfied: six>=1.12.0 in c:\\users\\asus\\anaconda3\\lib\\site-packages (from tensorflow) (1.16.0)\n",
      "Requirement already satisfied: termcolor>=1.1.0 in c:\\users\\asus\\anaconda3\\lib\\site-packages (from tensorflow) (3.1.0)\n",
      "Requirement already satisfied: typing-extensions>=3.6.6 in c:\\users\\asus\\anaconda3\\lib\\site-packages (from tensorflow) (4.14.1)\n",
      "Requirement already satisfied: wrapt>=1.11.0 in c:\\users\\asus\\anaconda3\\lib\\site-packages (from tensorflow) (1.14.1)\n",
      "Requirement already satisfied: grpcio<2.0,>=1.24.3 in c:\\users\\asus\\anaconda3\\lib\\site-packages (from tensorflow) (1.71.0)\n",
      "Requirement already satisfied: tensorboard~=2.19.0 in c:\\users\\asus\\anaconda3\\lib\\site-packages (from tensorflow) (2.19.0)\n",
      "Requirement already satisfied: keras>=3.5.0 in c:\\users\\asus\\anaconda3\\lib\\site-packages (from tensorflow) (3.9.2)\n",
      "Requirement already satisfied: numpy<2.2.0,>=1.26.0 in c:\\users\\asus\\anaconda3\\lib\\site-packages (from tensorflow) (1.26.4)\n",
      "Requirement already satisfied: h5py>=3.11.0 in c:\\users\\asus\\anaconda3\\lib\\site-packages (from tensorflow) (3.11.0)\n",
      "Requirement already satisfied: ml-dtypes<1.0.0,>=0.5.1 in c:\\users\\asus\\anaconda3\\lib\\site-packages (from tensorflow) (0.5.1)\n",
      "Requirement already satisfied: wheel<1.0,>=0.23.0 in c:\\users\\asus\\anaconda3\\lib\\site-packages (from astunparse>=1.6.0->tensorflow) (0.44.0)\n",
      "Requirement already satisfied: rich in c:\\users\\asus\\anaconda3\\lib\\site-packages (from keras>=3.5.0->tensorflow) (13.7.1)\n",
      "Requirement already satisfied: namex in c:\\users\\asus\\anaconda3\\lib\\site-packages (from keras>=3.5.0->tensorflow) (0.0.9)\n",
      "Requirement already satisfied: optree in c:\\users\\asus\\anaconda3\\lib\\site-packages (from keras>=3.5.0->tensorflow) (0.15.0)\n",
      "Requirement already satisfied: charset-normalizer<4,>=2 in c:\\users\\asus\\anaconda3\\lib\\site-packages (from requests<3,>=2.21.0->tensorflow) (3.3.2)\n",
      "Requirement already satisfied: idna<4,>=2.5 in c:\\users\\asus\\anaconda3\\lib\\site-packages (from requests<3,>=2.21.0->tensorflow) (3.7)\n",
      "Requirement already satisfied: urllib3<3,>=1.21.1 in c:\\users\\asus\\anaconda3\\lib\\site-packages (from requests<3,>=2.21.0->tensorflow) (2.2.3)\n",
      "Requirement already satisfied: certifi>=2017.4.17 in c:\\users\\asus\\anaconda3\\lib\\site-packages (from requests<3,>=2.21.0->tensorflow) (2024.8.30)\n",
      "Requirement already satisfied: markdown>=2.6.8 in c:\\users\\asus\\anaconda3\\lib\\site-packages (from tensorboard~=2.19.0->tensorflow) (3.4.1)\n",
      "Requirement already satisfied: tensorboard-data-server<0.8.0,>=0.7.0 in c:\\users\\asus\\anaconda3\\lib\\site-packages (from tensorboard~=2.19.0->tensorflow) (0.7.2)\n",
      "Requirement already satisfied: werkzeug>=1.0.1 in c:\\users\\asus\\anaconda3\\lib\\site-packages (from tensorboard~=2.19.0->tensorflow) (3.0.3)\n",
      "Requirement already satisfied: MarkupSafe>=2.1.1 in c:\\users\\asus\\anaconda3\\lib\\site-packages (from werkzeug>=1.0.1->tensorboard~=2.19.0->tensorflow) (2.1.3)\n",
      "Requirement already satisfied: markdown-it-py>=2.2.0 in c:\\users\\asus\\anaconda3\\lib\\site-packages (from rich->keras>=3.5.0->tensorflow) (2.2.0)\n",
      "Requirement already satisfied: pygments<3.0.0,>=2.13.0 in c:\\users\\asus\\anaconda3\\lib\\site-packages (from rich->keras>=3.5.0->tensorflow) (2.15.1)\n",
      "Requirement already satisfied: mdurl~=0.1 in c:\\users\\asus\\anaconda3\\lib\\site-packages (from markdown-it-py>=2.2.0->rich->keras>=3.5.0->tensorflow) (0.1.0)\n",
      "Note: you may need to restart the kernel to use updated packages.\n"
     ]
    }
   ],
   "source": [
    "%pip install tensorflow"
   ]
  },
  {
   "cell_type": "markdown",
   "id": "fd1eb6d7",
   "metadata": {},
   "source": [
    "## **Import Required Libraries**"
   ]
  },
  {
   "cell_type": "code",
   "execution_count": 130,
   "id": "739e52fe",
   "metadata": {},
   "outputs": [],
   "source": [
    "import pandas as pd\n",
    "import numpy as np\n",
    "from sklearn.preprocessing import StandardScaler, OneHotEncoder, OrdinalEncoder\n",
    "from sklearn.compose import ColumnTransformer\n",
    "from sklearn.pipeline import Pipeline\n",
    "from imblearn.over_sampling import SMOTE\n",
    "from sklearn.metrics import classification_report,accuracy_score,f1_score,precision_score,recall_score\n",
    "from tensorflow.keras.models import Sequential\n",
    "from tensorflow.keras.layers import Dense, Dropout,BatchNormalization\n",
    "from tensorflow.keras.utils import to_categorical"
   ]
  },
  {
   "cell_type": "markdown",
   "id": "5086ec77",
   "metadata": {},
   "source": [
    "## **Load the Datasets**"
   ]
  },
  {
   "cell_type": "code",
   "execution_count": 131,
   "id": "9bd1f628",
   "metadata": {},
   "outputs": [],
   "source": [
    "train_data=pd.read_csv(\"C:\\\\UOC pdf\\\\4th Year\\\\Machine Learning-02\\\\Data-Analysis-Project-2\\\\data\\\\train_data.csv\")\n",
    "test_data=pd.read_csv(\"C:\\\\UOC pdf\\\\4th Year\\\\Machine Learning-02\\\\Data-Analysis-Project-2\\\\data\\\\test_data.csv\")"
   ]
  },
  {
   "cell_type": "code",
   "execution_count": 132,
   "id": "13442d25",
   "metadata": {},
   "outputs": [],
   "source": [
    "train_data=train_data.drop(columns=[\"Unnamed: 0\"],axis=1)\n",
    "test_data=test_data.drop(columns=[\"Unnamed: 0\"],axis=1)"
   ]
  },
  {
   "cell_type": "markdown",
   "id": "50b46a2e",
   "metadata": {},
   "source": [
    "## **Split X_train,X_test,Y_train,Y_test**"
   ]
  },
  {
   "cell_type": "code",
   "execution_count": 133,
   "id": "6dcf2050",
   "metadata": {},
   "outputs": [],
   "source": [
    "X_train=train_data.drop(columns=[\"diagnosis\"],axis=1)\n",
    "Y_train=train_data[\"diagnosis\"]\n",
    "X_test=test_data.drop(columns=[\"diagnosis\"],axis=1)\n",
    "Y_test=test_data[\"diagnosis\"]"
   ]
  },
  {
   "cell_type": "code",
   "execution_count": 134,
   "id": "a2d6badc",
   "metadata": {},
   "outputs": [
    {
     "name": "stdout",
     "output_type": "stream",
     "text": [
      "Shape of the Training set:((700, 15), (700,))\n",
      "Shape of the Testing set:((300, 15), (300,))\n"
     ]
    }
   ],
   "source": [
    "print(f\"Shape of the Training set:{X_train.shape,Y_train.shape}\")\n",
    "print(f\"Shape of the Testing set:{X_test.shape,Y_test.shape}\")"
   ]
  },
  {
   "cell_type": "markdown",
   "id": "ddd2a246",
   "metadata": {},
   "source": [
    "## **Build the Pipeline**"
   ]
  },
  {
   "cell_type": "code",
   "execution_count": 135,
   "id": "f4d4f093",
   "metadata": {},
   "outputs": [],
   "source": [
    "num_cols=X_train.select_dtypes(include=\"number\").columns  ##get the all numerical column names\n",
    "cat_cols=X_train.select_dtypes(include=[\"object\",\"category\"]).columns ##get the all categorical column names"
   ]
  },
  {
   "cell_type": "code",
   "execution_count": 136,
   "id": "f28664d1",
   "metadata": {},
   "outputs": [],
   "source": [
    "nominal_cols=[\"gender\",\"pem_present\",\"meditation_or_mindfulness\"] ##nominal columns\n",
    "ordinal_cols=[\"work_status\",\"social_activity_level\",\"exercise_frequency\"] ##ordinal columns"
   ]
  },
  {
   "cell_type": "markdown",
   "id": "9ab726b5",
   "metadata": {},
   "source": [
    "#### **Define the Pipeline**"
   ]
  },
  {
   "cell_type": "code",
   "execution_count": 137,
   "id": "57cf7384",
   "metadata": {},
   "outputs": [],
   "source": [
    "numerical_pipeline=Pipeline(steps=[\n",
    "    (\"scaler\",StandardScaler())]) ##numerical pipeline\n",
    "\n",
    "ordinal_pipeline=Pipeline(steps=[\n",
    "    (\"Ordinal Encoder\",OrdinalEncoder())]) ##ordinal pipeline\n",
    "\n",
    "nominal_pipeline=Pipeline(steps=[\n",
    "    (\"One-Hot Encoder\",OneHotEncoder(sparse_output=False,handle_unknown=\"ignore\"))]) ##nominal pipeline"
   ]
  },
  {
   "cell_type": "markdown",
   "id": "7db53b9c",
   "metadata": {},
   "source": [
    "#### **Combine Pipeline**"
   ]
  },
  {
   "cell_type": "code",
   "execution_count": 138,
   "id": "79c86fbf",
   "metadata": {},
   "outputs": [],
   "source": [
    "preprocessors=ColumnTransformer(transformers=[\n",
    "    (\"Numerical Pipeline\",numerical_pipeline,num_cols),\n",
    "    (\"Ordinal Pipeline\",ordinal_pipeline,ordinal_cols),\n",
    "    (\"Nominal Pipeline\",nominal_pipeline,nominal_cols)\n",
    "],\n",
    "    remainder=\"drop\",\n",
    "    n_jobs=-1,\n",
    "    verbose=True\n",
    ")"
   ]
  },
  {
   "cell_type": "markdown",
   "id": "2126bb7d",
   "metadata": {},
   "source": [
    "#### **Execute the Pipeline**"
   ]
  },
  {
   "cell_type": "code",
   "execution_count": 139,
   "id": "d40ce1f6",
   "metadata": {},
   "outputs": [],
   "source": [
    "X_train_encoded=preprocessors.fit_transform(X_train)\n",
    "X_test_encoded=preprocessors.transform(X_test)"
   ]
  },
  {
   "cell_type": "code",
   "execution_count": 140,
   "id": "ce8eb370",
   "metadata": {},
   "outputs": [],
   "source": [
    "# Get feature names after transformation\n",
    "feature_names = preprocessors.get_feature_names_out()\n",
    "# Convert encoded array to DataFrame with feature names\n",
    "X_train_encoded_df = pd.DataFrame(X_train_encoded, columns=feature_names)\n",
    "X_test_encoded_df = pd.DataFrame(X_test_encoded, columns=feature_names)"
   ]
  },
  {
   "cell_type": "markdown",
   "id": "d3c77c91",
   "metadata": {},
   "source": [
    "## **Apply SMOTE**"
   ]
  },
  {
   "cell_type": "code",
   "execution_count": 141,
   "id": "a9cacd7f",
   "metadata": {},
   "outputs": [
    {
     "name": "stderr",
     "output_type": "stream",
     "text": [
      "c:\\Users\\ASUS\\anaconda3\\Lib\\site-packages\\sklearn\\base.py:474: FutureWarning: `BaseEstimator._validate_data` is deprecated in 1.6 and will be removed in 1.7. Use `sklearn.utils.validation.validate_data` instead. This function becomes public and is part of the scikit-learn developer API.\n",
      "  warnings.warn(\n"
     ]
    }
   ],
   "source": [
    "##Apply SMOTE on the preprocessed training data\n",
    "sm = SMOTE(random_state=42)\n",
    "X_train_sm, y_train_sm = sm.fit_resample(X_train_encoded_df, Y_train)"
   ]
  },
  {
   "cell_type": "code",
   "execution_count": 144,
   "id": "100c712f",
   "metadata": {},
   "outputs": [],
   "source": [
    "y_train_sm=pd.DataFrame(y_train_sm,columns=[\"diagnosis\"])"
   ]
  },
  {
   "cell_type": "markdown",
   "id": "70a3707b",
   "metadata": {},
   "source": [
    "## **Prepare the Target Variable**"
   ]
  },
  {
   "cell_type": "code",
   "execution_count": 145,
   "id": "6bb061c9",
   "metadata": {},
   "outputs": [],
   "source": [
    "## Prepare target variable\n",
    "num_classes = len(np.unique(y_train_sm))\n",
    "if y_train_sm[\"diagnosis\"].dtype == \"object\" or y_train_sm[\"diagnosis\"].dtype.name == \"category\":\n",
    "    from sklearn.preprocessing import LabelEncoder\n",
    "    le = LabelEncoder()\n",
    "    y_train_sm[\"diagnosis\"] = le.fit_transform(y_train_sm[\"diagnosis\"])\n",
    "    Y_test = le.transform(Y_test)\n",
    "\n",
    "# Convert to one-hot for multiclass\n",
    "if num_classes > 2:\n",
    "    y_train_cat = to_categorical(y_train_sm, num_classes)\n",
    "    y_test_cat = to_categorical(Y_test, num_classes)\n",
    "else:\n",
    "    y_train_cat = y_train_sm\n",
    "    y_test_cat = Y_test"
   ]
  },
  {
   "cell_type": "markdown",
   "id": "383a5d4e",
   "metadata": {},
   "source": [
    "## **Build the ANN model**"
   ]
  },
  {
   "cell_type": "code",
   "execution_count": 146,
   "id": "2bb15a35",
   "metadata": {},
   "outputs": [
    {
     "name": "stderr",
     "output_type": "stream",
     "text": [
      "c:\\Users\\ASUS\\anaconda3\\Lib\\site-packages\\keras\\src\\layers\\core\\dense.py:87: UserWarning: Do not pass an `input_shape`/`input_dim` argument to a layer. When using Sequential models, prefer using an `Input(shape)` object as the first layer in the model instead.\n",
      "  super().__init__(activity_regularizer=activity_regularizer, **kwargs)\n"
     ]
    }
   ],
   "source": [
    "model = Sequential()\n",
    "\n",
    "# Input layer\n",
    "model.add(Dense(128, input_shape=(X_train_sm.shape[1],)))\n",
    "model.add(BatchNormalization())\n",
    "model.add(Dense(64, activation='relu'))\n",
    "model.add(Dropout(0.3))\n",
    "\n",
    "# Hidden layer\n",
    "model.add(Dense(32))\n",
    "model.add(BatchNormalization())\n",
    "model.add(Dense(32, activation='relu'))\n",
    "model.add(Dropout(0.2))\n",
    "\n",
    "# Output layer\n",
    "model.add(Dense(num_classes if num_classes > 2 else 1, activation='softmax' if num_classes > 2 else 'sigmoid'))"
   ]
  },
  {
   "cell_type": "markdown",
   "id": "ce029341",
   "metadata": {},
   "source": [
    "## **Compile the ANN**"
   ]
  },
  {
   "cell_type": "code",
   "execution_count": 147,
   "id": "fd2eb0e6",
   "metadata": {},
   "outputs": [],
   "source": [
    "model.compile(\n",
    "    optimizer=\"adam\",\n",
    "    loss=\"categorical_crossentropy\" if num_classes > 2 else \"binary_crossentropy\",\n",
    "    metrics=[\"accuracy\"]\n",
    ")"
   ]
  },
  {
   "cell_type": "markdown",
   "id": "831d544f",
   "metadata": {},
   "source": [
    "## **Train the Model**"
   ]
  },
  {
   "cell_type": "code",
   "execution_count": 148,
   "id": "53d50014",
   "metadata": {},
   "outputs": [
    {
     "name": "stdout",
     "output_type": "stream",
     "text": [
      "Epoch 1/50\n",
      "\u001b[1m26/26\u001b[0m \u001b[32m━━━━━━━━━━━━━━━━━━━━\u001b[0m\u001b[37m\u001b[0m \u001b[1m3s\u001b[0m 15ms/step - accuracy: 0.4448 - loss: 1.1236 - val_accuracy: 0.8100 - val_loss: 0.7382\n",
      "Epoch 2/50\n",
      "\u001b[1m26/26\u001b[0m \u001b[32m━━━━━━━━━━━━━━━━━━━━\u001b[0m\u001b[37m\u001b[0m \u001b[1m0s\u001b[0m 5ms/step - accuracy: 0.7379 - loss: 0.6375 - val_accuracy: 0.8967 - val_loss: 0.4803\n",
      "Epoch 3/50\n",
      "\u001b[1m26/26\u001b[0m \u001b[32m━━━━━━━━━━━━━━━━━━━━\u001b[0m\u001b[37m\u001b[0m \u001b[1m0s\u001b[0m 5ms/step - accuracy: 0.8126 - loss: 0.4417 - val_accuracy: 0.9300 - val_loss: 0.3121\n",
      "Epoch 4/50\n",
      "\u001b[1m26/26\u001b[0m \u001b[32m━━━━━━━━━━━━━━━━━━━━\u001b[0m\u001b[37m\u001b[0m \u001b[1m0s\u001b[0m 6ms/step - accuracy: 0.8798 - loss: 0.3193 - val_accuracy: 0.9333 - val_loss: 0.2509\n",
      "Epoch 5/50\n",
      "\u001b[1m26/26\u001b[0m \u001b[32m━━━━━━━━━━━━━━━━━━━━\u001b[0m\u001b[37m\u001b[0m \u001b[1m0s\u001b[0m 6ms/step - accuracy: 0.8748 - loss: 0.3253 - val_accuracy: 0.9367 - val_loss: 0.2138\n",
      "Epoch 6/50\n",
      "\u001b[1m26/26\u001b[0m \u001b[32m━━━━━━━━━━━━━━━━━━━━\u001b[0m\u001b[37m\u001b[0m \u001b[1m0s\u001b[0m 6ms/step - accuracy: 0.8732 - loss: 0.2775 - val_accuracy: 0.9200 - val_loss: 0.1992\n",
      "Epoch 7/50\n",
      "\u001b[1m26/26\u001b[0m \u001b[32m━━━━━━━━━━━━━━━━━━━━\u001b[0m\u001b[37m\u001b[0m \u001b[1m0s\u001b[0m 6ms/step - accuracy: 0.8909 - loss: 0.2520 - val_accuracy: 0.9267 - val_loss: 0.1885\n",
      "Epoch 8/50\n",
      "\u001b[1m26/26\u001b[0m \u001b[32m━━━━━━━━━━━━━━━━━━━━\u001b[0m\u001b[37m\u001b[0m \u001b[1m0s\u001b[0m 6ms/step - accuracy: 0.8987 - loss: 0.2306 - val_accuracy: 0.9300 - val_loss: 0.1841\n",
      "Epoch 9/50\n",
      "\u001b[1m26/26\u001b[0m \u001b[32m━━━━━━━━━━━━━━━━━━━━\u001b[0m\u001b[37m\u001b[0m \u001b[1m0s\u001b[0m 6ms/step - accuracy: 0.8826 - loss: 0.2584 - val_accuracy: 0.9167 - val_loss: 0.1824\n",
      "Epoch 10/50\n",
      "\u001b[1m26/26\u001b[0m \u001b[32m━━━━━━━━━━━━━━━━━━━━\u001b[0m\u001b[37m\u001b[0m \u001b[1m0s\u001b[0m 5ms/step - accuracy: 0.9013 - loss: 0.2137 - val_accuracy: 0.9233 - val_loss: 0.1774\n",
      "Epoch 11/50\n",
      "\u001b[1m26/26\u001b[0m \u001b[32m━━━━━━━━━━━━━━━━━━━━\u001b[0m\u001b[37m\u001b[0m \u001b[1m0s\u001b[0m 5ms/step - accuracy: 0.8783 - loss: 0.2543 - val_accuracy: 0.9433 - val_loss: 0.1662\n",
      "Epoch 12/50\n",
      "\u001b[1m26/26\u001b[0m \u001b[32m━━━━━━━━━━━━━━━━━━━━\u001b[0m\u001b[37m\u001b[0m \u001b[1m0s\u001b[0m 5ms/step - accuracy: 0.9210 - loss: 0.2067 - val_accuracy: 0.9167 - val_loss: 0.1783\n",
      "Epoch 13/50\n",
      "\u001b[1m26/26\u001b[0m \u001b[32m━━━━━━━━━━━━━━━━━━━━\u001b[0m\u001b[37m\u001b[0m \u001b[1m0s\u001b[0m 5ms/step - accuracy: 0.9185 - loss: 0.1898 - val_accuracy: 0.9400 - val_loss: 0.1558\n",
      "Epoch 14/50\n",
      "\u001b[1m26/26\u001b[0m \u001b[32m━━━━━━━━━━━━━━━━━━━━\u001b[0m\u001b[37m\u001b[0m \u001b[1m0s\u001b[0m 7ms/step - accuracy: 0.8981 - loss: 0.2176 - val_accuracy: 0.9267 - val_loss: 0.1691\n",
      "Epoch 15/50\n",
      "\u001b[1m26/26\u001b[0m \u001b[32m━━━━━━━━━━━━━━━━━━━━\u001b[0m\u001b[37m\u001b[0m \u001b[1m0s\u001b[0m 7ms/step - accuracy: 0.9001 - loss: 0.2023 - val_accuracy: 0.9200 - val_loss: 0.1791\n",
      "Epoch 16/50\n",
      "\u001b[1m26/26\u001b[0m \u001b[32m━━━━━━━━━━━━━━━━━━━━\u001b[0m\u001b[37m\u001b[0m \u001b[1m0s\u001b[0m 7ms/step - accuracy: 0.8978 - loss: 0.2137 - val_accuracy: 0.9400 - val_loss: 0.1600\n",
      "Epoch 17/50\n",
      "\u001b[1m26/26\u001b[0m \u001b[32m━━━━━━━━━━━━━━━━━━━━\u001b[0m\u001b[37m\u001b[0m \u001b[1m0s\u001b[0m 8ms/step - accuracy: 0.9391 - loss: 0.1790 - val_accuracy: 0.9267 - val_loss: 0.1754\n",
      "Epoch 18/50\n",
      "\u001b[1m26/26\u001b[0m \u001b[32m━━━━━━━━━━━━━━━━━━━━\u001b[0m\u001b[37m\u001b[0m \u001b[1m0s\u001b[0m 7ms/step - accuracy: 0.9231 - loss: 0.1756 - val_accuracy: 0.9267 - val_loss: 0.1714\n",
      "Epoch 19/50\n",
      "\u001b[1m26/26\u001b[0m \u001b[32m━━━━━━━━━━━━━━━━━━━━\u001b[0m\u001b[37m\u001b[0m \u001b[1m0s\u001b[0m 7ms/step - accuracy: 0.8845 - loss: 0.2241 - val_accuracy: 0.9300 - val_loss: 0.1679\n",
      "Epoch 20/50\n",
      "\u001b[1m26/26\u001b[0m \u001b[32m━━━━━━━━━━━━━━━━━━━━\u001b[0m\u001b[37m\u001b[0m \u001b[1m0s\u001b[0m 7ms/step - accuracy: 0.9217 - loss: 0.1933 - val_accuracy: 0.9133 - val_loss: 0.1798\n",
      "Epoch 21/50\n",
      "\u001b[1m26/26\u001b[0m \u001b[32m━━━━━━━━━━━━━━━━━━━━\u001b[0m\u001b[37m\u001b[0m \u001b[1m0s\u001b[0m 6ms/step - accuracy: 0.9300 - loss: 0.1713 - val_accuracy: 0.9367 - val_loss: 0.1575\n",
      "Epoch 22/50\n",
      "\u001b[1m26/26\u001b[0m \u001b[32m━━━━━━━━━━━━━━━━━━━━\u001b[0m\u001b[37m\u001b[0m \u001b[1m0s\u001b[0m 6ms/step - accuracy: 0.9226 - loss: 0.1807 - val_accuracy: 0.9033 - val_loss: 0.1952\n",
      "Epoch 23/50\n",
      "\u001b[1m26/26\u001b[0m \u001b[32m━━━━━━━━━━━━━━━━━━━━\u001b[0m\u001b[37m\u001b[0m \u001b[1m0s\u001b[0m 11ms/step - accuracy: 0.9161 - loss: 0.1733 - val_accuracy: 0.9333 - val_loss: 0.1604\n",
      "Epoch 24/50\n",
      "\u001b[1m26/26\u001b[0m \u001b[32m━━━━━━━━━━━━━━━━━━━━\u001b[0m\u001b[37m\u001b[0m \u001b[1m0s\u001b[0m 8ms/step - accuracy: 0.8959 - loss: 0.2285 - val_accuracy: 0.9433 - val_loss: 0.1698\n",
      "Epoch 25/50\n",
      "\u001b[1m26/26\u001b[0m \u001b[32m━━━━━━━━━━━━━━━━━━━━\u001b[0m\u001b[37m\u001b[0m \u001b[1m0s\u001b[0m 7ms/step - accuracy: 0.9383 - loss: 0.1632 - val_accuracy: 0.9400 - val_loss: 0.1703\n",
      "Epoch 26/50\n",
      "\u001b[1m26/26\u001b[0m \u001b[32m━━━━━━━━━━━━━━━━━━━━\u001b[0m\u001b[37m\u001b[0m \u001b[1m0s\u001b[0m 7ms/step - accuracy: 0.9314 - loss: 0.1658 - val_accuracy: 0.9467 - val_loss: 0.1640\n",
      "Epoch 27/50\n",
      "\u001b[1m26/26\u001b[0m \u001b[32m━━━━━━━━━━━━━━━━━━━━\u001b[0m\u001b[37m\u001b[0m \u001b[1m0s\u001b[0m 7ms/step - accuracy: 0.9249 - loss: 0.1862 - val_accuracy: 0.9400 - val_loss: 0.1625\n",
      "Epoch 28/50\n",
      "\u001b[1m26/26\u001b[0m \u001b[32m━━━━━━━━━━━━━━━━━━━━\u001b[0m\u001b[37m\u001b[0m \u001b[1m0s\u001b[0m 7ms/step - accuracy: 0.9272 - loss: 0.1747 - val_accuracy: 0.9100 - val_loss: 0.1918\n",
      "Epoch 29/50\n",
      "\u001b[1m26/26\u001b[0m \u001b[32m━━━━━━━━━━━━━━━━━━━━\u001b[0m\u001b[37m\u001b[0m \u001b[1m0s\u001b[0m 7ms/step - accuracy: 0.9338 - loss: 0.1677 - val_accuracy: 0.9167 - val_loss: 0.1784\n",
      "Epoch 30/50\n",
      "\u001b[1m26/26\u001b[0m \u001b[32m━━━━━━━━━━━━━━━━━━━━\u001b[0m\u001b[37m\u001b[0m \u001b[1m0s\u001b[0m 6ms/step - accuracy: 0.9399 - loss: 0.1655 - val_accuracy: 0.9233 - val_loss: 0.1812\n",
      "Epoch 31/50\n",
      "\u001b[1m26/26\u001b[0m \u001b[32m━━━━━━━━━━━━━━━━━━━━\u001b[0m\u001b[37m\u001b[0m \u001b[1m0s\u001b[0m 6ms/step - accuracy: 0.9360 - loss: 0.1728 - val_accuracy: 0.9200 - val_loss: 0.1749\n",
      "Epoch 32/50\n",
      "\u001b[1m26/26\u001b[0m \u001b[32m━━━━━━━━━━━━━━━━━━━━\u001b[0m\u001b[37m\u001b[0m \u001b[1m0s\u001b[0m 7ms/step - accuracy: 0.9235 - loss: 0.1859 - val_accuracy: 0.9167 - val_loss: 0.1871\n",
      "Epoch 33/50\n",
      "\u001b[1m26/26\u001b[0m \u001b[32m━━━━━━━━━━━━━━━━━━━━\u001b[0m\u001b[37m\u001b[0m \u001b[1m0s\u001b[0m 12ms/step - accuracy: 0.9301 - loss: 0.1620 - val_accuracy: 0.9133 - val_loss: 0.1896\n",
      "Epoch 34/50\n",
      "\u001b[1m26/26\u001b[0m \u001b[32m━━━━━━━━━━━━━━━━━━━━\u001b[0m\u001b[37m\u001b[0m \u001b[1m0s\u001b[0m 7ms/step - accuracy: 0.9314 - loss: 0.1640 - val_accuracy: 0.9367 - val_loss: 0.1652\n",
      "Epoch 35/50\n",
      "\u001b[1m26/26\u001b[0m \u001b[32m━━━━━━━━━━━━━━━━━━━━\u001b[0m\u001b[37m\u001b[0m \u001b[1m0s\u001b[0m 7ms/step - accuracy: 0.9207 - loss: 0.1599 - val_accuracy: 0.9100 - val_loss: 0.1924\n",
      "Epoch 36/50\n",
      "\u001b[1m26/26\u001b[0m \u001b[32m━━━━━━━━━━━━━━━━━━━━\u001b[0m\u001b[37m\u001b[0m \u001b[1m0s\u001b[0m 6ms/step - accuracy: 0.9384 - loss: 0.1454 - val_accuracy: 0.9067 - val_loss: 0.1975\n",
      "Epoch 37/50\n",
      "\u001b[1m26/26\u001b[0m \u001b[32m━━━━━━━━━━━━━━━━━━━━\u001b[0m\u001b[37m\u001b[0m \u001b[1m0s\u001b[0m 6ms/step - accuracy: 0.9405 - loss: 0.1716 - val_accuracy: 0.9033 - val_loss: 0.2037\n",
      "Epoch 38/50\n",
      "\u001b[1m26/26\u001b[0m \u001b[32m━━━━━━━━━━━━━━━━━━━━\u001b[0m\u001b[37m\u001b[0m \u001b[1m0s\u001b[0m 6ms/step - accuracy: 0.9308 - loss: 0.1645 - val_accuracy: 0.9333 - val_loss: 0.1841\n",
      "Epoch 39/50\n",
      "\u001b[1m26/26\u001b[0m \u001b[32m━━━━━━━━━━━━━━━━━━━━\u001b[0m\u001b[37m\u001b[0m \u001b[1m0s\u001b[0m 5ms/step - accuracy: 0.9315 - loss: 0.1658 - val_accuracy: 0.9067 - val_loss: 0.2079\n",
      "Epoch 40/50\n",
      "\u001b[1m26/26\u001b[0m \u001b[32m━━━━━━━━━━━━━━━━━━━━\u001b[0m\u001b[37m\u001b[0m \u001b[1m0s\u001b[0m 6ms/step - accuracy: 0.9381 - loss: 0.1597 - val_accuracy: 0.9133 - val_loss: 0.1855\n",
      "Epoch 41/50\n",
      "\u001b[1m26/26\u001b[0m \u001b[32m━━━━━━━━━━━━━━━━━━━━\u001b[0m\u001b[37m\u001b[0m \u001b[1m0s\u001b[0m 5ms/step - accuracy: 0.9298 - loss: 0.1453 - val_accuracy: 0.9333 - val_loss: 0.1729\n",
      "Epoch 42/50\n",
      "\u001b[1m26/26\u001b[0m \u001b[32m━━━━━━━━━━━━━━━━━━━━\u001b[0m\u001b[37m\u001b[0m \u001b[1m0s\u001b[0m 6ms/step - accuracy: 0.9313 - loss: 0.1452 - val_accuracy: 0.9167 - val_loss: 0.1766\n",
      "Epoch 43/50\n",
      "\u001b[1m26/26\u001b[0m \u001b[32m━━━━━━━━━━━━━━━━━━━━\u001b[0m\u001b[37m\u001b[0m \u001b[1m0s\u001b[0m 6ms/step - accuracy: 0.9102 - loss: 0.2020 - val_accuracy: 0.9367 - val_loss: 0.1775\n",
      "Epoch 44/50\n",
      "\u001b[1m26/26\u001b[0m \u001b[32m━━━━━━━━━━━━━━━━━━━━\u001b[0m\u001b[37m\u001b[0m \u001b[1m0s\u001b[0m 13ms/step - accuracy: 0.9280 - loss: 0.1704 - val_accuracy: 0.9000 - val_loss: 0.1990\n",
      "Epoch 45/50\n",
      "\u001b[1m26/26\u001b[0m \u001b[32m━━━━━━━━━━━━━━━━━━━━\u001b[0m\u001b[37m\u001b[0m \u001b[1m0s\u001b[0m 7ms/step - accuracy: 0.9556 - loss: 0.1170 - val_accuracy: 0.9400 - val_loss: 0.1696\n",
      "Epoch 46/50\n",
      "\u001b[1m26/26\u001b[0m \u001b[32m━━━━━━━━━━━━━━━━━━━━\u001b[0m\u001b[37m\u001b[0m \u001b[1m0s\u001b[0m 7ms/step - accuracy: 0.9477 - loss: 0.1436 - val_accuracy: 0.9133 - val_loss: 0.1873\n",
      "Epoch 47/50\n",
      "\u001b[1m26/26\u001b[0m \u001b[32m━━━━━━━━━━━━━━━━━━━━\u001b[0m\u001b[37m\u001b[0m \u001b[1m0s\u001b[0m 6ms/step - accuracy: 0.9321 - loss: 0.1369 - val_accuracy: 0.9300 - val_loss: 0.1891\n",
      "Epoch 48/50\n",
      "\u001b[1m26/26\u001b[0m \u001b[32m━━━━━━━━━━━━━━━━━━━━\u001b[0m\u001b[37m\u001b[0m \u001b[1m0s\u001b[0m 5ms/step - accuracy: 0.9249 - loss: 0.1606 - val_accuracy: 0.9133 - val_loss: 0.1956\n",
      "Epoch 49/50\n",
      "\u001b[1m26/26\u001b[0m \u001b[32m━━━━━━━━━━━━━━━━━━━━\u001b[0m\u001b[37m\u001b[0m \u001b[1m0s\u001b[0m 5ms/step - accuracy: 0.9342 - loss: 0.1632 - val_accuracy: 0.9267 - val_loss: 0.1854\n",
      "Epoch 50/50\n",
      "\u001b[1m26/26\u001b[0m \u001b[32m━━━━━━━━━━━━━━━━━━━━\u001b[0m\u001b[37m\u001b[0m \u001b[1m0s\u001b[0m 5ms/step - accuracy: 0.9361 - loss: 0.1417 - val_accuracy: 0.9300 - val_loss: 0.1888\n"
     ]
    }
   ],
   "source": [
    " ##Train the model\n",
    "history = model.fit(\n",
    "    X_train_sm,\n",
    "    y_train_cat,\n",
    "    validation_data=(X_test_encoded_df,y_test_cat),\n",
    "    epochs=50,\n",
    "    batch_size=32,\n",
    "    verbose=1,\n",
    ")"
   ]
  },
  {
   "cell_type": "markdown",
   "id": "e385eacb",
   "metadata": {},
   "source": [
    "## **Model Evaluation**"
   ]
  },
  {
   "cell_type": "code",
   "execution_count": 149,
   "id": "4b9129ab",
   "metadata": {},
   "outputs": [
    {
     "name": "stdout",
     "output_type": "stream",
     "text": [
      "\u001b[1m10/10\u001b[0m \u001b[32m━━━━━━━━━━━━━━━━━━━━\u001b[0m\u001b[37m\u001b[0m \u001b[1m0s\u001b[0m 14ms/step\n",
      "\u001b[1m26/26\u001b[0m \u001b[32m━━━━━━━━━━━━━━━━━━━━\u001b[0m\u001b[37m\u001b[0m \u001b[1m0s\u001b[0m 2ms/step \n"
     ]
    }
   ],
   "source": [
    "# Get raw predictions\n",
    "y_pred_probs = model.predict(X_test_encoded_df)\n",
    "y_pred_train_probs = model.predict(X_train_sm)\n",
    "\n",
    "# Convert probabilities to class labels\n",
    "if num_classes > 2:\n",
    "    y_pred = np.argmax(y_pred_probs, axis=1)\n",
    "    y_pred_train = np.argmax(y_pred_train_probs, axis=1)\n",
    "else:\n",
    "    y_pred = (y_pred_probs > 0.5).astype(int).flatten()\n",
    "    y_pred_train = (y_pred_train_probs > 0.5).astype(int).flatten()"
   ]
  },
  {
   "cell_type": "markdown",
   "id": "0db8108d",
   "metadata": {},
   "source": [
    "#### **Get the Evaluation Metrics for Testing Data**"
   ]
  },
  {
   "cell_type": "code",
   "execution_count": 150,
   "id": "440d302c",
   "metadata": {},
   "outputs": [],
   "source": [
    "f1_test=f1_score(Y_test,y_pred,average='weighted') ##F1 score for testing data\n",
    "precision_test=precision_score(Y_test,y_pred,average=\"weighted\") ##precision for testing data\n",
    "accuracy_test=accuracy_score(Y_test,y_pred) ## accuracy score for testing data\n",
    "recall_test=recall_score(Y_test,y_pred,average=\"weighted\") ## recall score for testing data"
   ]
  },
  {
   "cell_type": "code",
   "execution_count": 151,
   "id": "f911af9a",
   "metadata": {},
   "outputs": [
    {
     "name": "stdout",
     "output_type": "stream",
     "text": [
      "Accuracy:  0.9300\n",
      "Precision: 0.9302\n",
      "F1 Score:  0.9276\n",
      "Recall Score: 0.9300\n"
     ]
    }
   ],
   "source": [
    "# Print results\n",
    "print(f\"Accuracy:  {accuracy_test:.4f}\")\n",
    "print(f\"Precision: {precision_test:.4f}\")\n",
    "print(f\"F1 Score:  {f1_test:.4f}\")\n",
    "print(f\"Recall Score: {recall_test:.4f}\")"
   ]
  },
  {
   "cell_type": "markdown",
   "id": "71496070",
   "metadata": {},
   "source": [
    "#### **Get the Evaluation Metrics for Training Data**"
   ]
  },
  {
   "cell_type": "code",
   "execution_count": 152,
   "id": "b2346a9c",
   "metadata": {},
   "outputs": [],
   "source": [
    "f1_train=f1_score(y_train_sm, y_pred_train,average=\"weighted\") ##F1 score for training data\n",
    "precision_train=precision_score(y_train_sm, y_pred_train,average=\"weighted\") ## precision score for training data\n",
    "accuracy_train=accuracy_score(y_train_sm, y_pred_train) ## accuracy score for training data\n",
    "recall_train=recall_score(y_train_sm, y_pred_train,average=\"weighted\") ##recall score for training data"
   ]
  },
  {
   "cell_type": "code",
   "execution_count": 153,
   "id": "76275a77",
   "metadata": {},
   "outputs": [
    {
     "name": "stdout",
     "output_type": "stream",
     "text": [
      "Accuracy:  0.9758\n",
      "Precision: 0.9769\n",
      "F1 Score:  0.9758\n",
      "Recall Score:0.9758\n"
     ]
    }
   ],
   "source": [
    "# Print results\n",
    "print(f\"Accuracy:  {accuracy_train:.4f}\")\n",
    "print(f\"Precision: {precision_train:.4f}\")\n",
    "print(f\"F1 Score:  {f1_train:.4f}\")\n",
    "print(f\"Recall Score:{recall_train:.4f}\")"
   ]
  },
  {
   "cell_type": "markdown",
   "id": "2a95ca91",
   "metadata": {},
   "source": [
    "## **Model Deployment using Mlflow**"
   ]
  },
  {
   "cell_type": "code",
   "execution_count": 154,
   "id": "e8b50fc8",
   "metadata": {},
   "outputs": [],
   "source": [
    "import mlflow"
   ]
  },
  {
   "cell_type": "code",
   "execution_count": 155,
   "id": "ef7fcaf2",
   "metadata": {},
   "outputs": [
    {
     "name": "stderr",
     "output_type": "stream",
     "text": [
      "2025/07/25 22:42:24 INFO mlflow.tracking.fluent: Experiment with name 'Artificial-Neural-Network-Classifier' does not exist. Creating a new experiment.\n",
      "2025/07/25 22:42:24 WARNING mlflow.models.model: `artifact_path` is deprecated. Please use `name` instead.\n",
      "2025/07/25 22:42:24 WARNING mlflow.keras.save: You are saving a Keras model without specifying model signature.\n",
      "2025/07/25 22:42:37 WARNING mlflow.models.model: Model logged without a signature and input example. Please set `input_example` parameter when logging the model to auto infer the model signature.\n"
     ]
    },
    {
     "name": "stdout",
     "output_type": "stream",
     "text": [
      "🏃 View run Artificial Neural Network Classifier Hyperparameter Tune at: http://127.0.0.1:5000/#/experiments/517660236777405868/runs/2669c079a82d435d8d8ef30319902730\n",
      "🧪 View experiment at: http://127.0.0.1:5000/#/experiments/517660236777405868\n"
     ]
    }
   ],
   "source": [
    "mlflow.set_tracking_uri(\"http://127.0.0.1:5000/\")\n",
    "mlflow.set_experiment(\"Artificial-Neural-Network-Classifier\")\n",
    "\n",
    "with mlflow.start_run(run_name=\"Artificial Neural Network Classifier Hyperparameter Tune\"):\n",
    "    ## Hyperparameters\n",
    "    mlflow.log_param(\"Epochs\", 50)\n",
    "    mlflow.log_param(\"Batch size\", 32)\n",
    "    mlflow.log_param(\"Dropout\", 0.3)\n",
    "    mlflow.log_param(\"Activation Functions\", \"relu,softmax\")\n",
    "\n",
    "    ### Validation metrics\n",
    "    mlflow.log_metric(\"f1_score_test\", f1_test)\n",
    "    mlflow.log_metric(\"precision_test\", precision_test)\n",
    "    mlflow.log_metric(\"accuracy_test\", accuracy_test)\n",
    "    mlflow.log_metric(\"recall_test\", recall_test)\n",
    "\n",
    "    # Log the model\n",
    "    mlflow.keras.log_model(model, \"Aritificial_Neural_Network_Classifier\")"
   ]
  },
  {
   "cell_type": "code",
   "execution_count": null,
   "id": "853e9add",
   "metadata": {},
   "outputs": [],
   "source": []
  }
 ],
 "metadata": {
  "kernelspec": {
   "display_name": "base",
   "language": "python",
   "name": "python3"
  },
  "language_info": {
   "codemirror_mode": {
    "name": "ipython",
    "version": 3
   },
   "file_extension": ".py",
   "mimetype": "text/x-python",
   "name": "python",
   "nbconvert_exporter": "python",
   "pygments_lexer": "ipython3",
   "version": "3.12.7"
  }
 },
 "nbformat": 4,
 "nbformat_minor": 5
}
